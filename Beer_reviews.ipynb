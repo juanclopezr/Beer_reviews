{
 "cells": [
  {
   "cell_type": "code",
   "execution_count": 1,
   "metadata": {
    "collapsed": false
   },
   "outputs": [
    {
     "name": "stdout",
     "output_type": "stream",
     "text": [
      "Populating the interactive namespace from numpy and matplotlib\n"
     ]
    }
   ],
   "source": [
    "%pylab inline\n",
    "import numpy as np\n",
    "import matplotlib.pyplot as plt\n",
    "import pandas as pd\n",
    "import sklearn as sk"
   ]
  },
  {
   "cell_type": "markdown",
   "metadata": {},
   "source": [
    "# Importar datos\n",
    "Se importan los datos a un dataframe de Pandas y se visualiza su estructura"
   ]
  },
  {
   "cell_type": "code",
   "execution_count": 3,
   "metadata": {
    "collapsed": false
   },
   "outputs": [
    {
     "data": {
      "text/html": [
       "<div>\n",
       "<table border=\"1\" class=\"dataframe\">\n",
       "  <thead>\n",
       "    <tr style=\"text-align: right;\">\n",
       "      <th></th>\n",
       "      <th>id_cerveceria</th>\n",
       "      <th>nombre_cerveceria</th>\n",
       "      <th>fecha_calificacion</th>\n",
       "      <th>calificacion_total</th>\n",
       "      <th>calificacion_aroma</th>\n",
       "      <th>calificacion_apariencia</th>\n",
       "      <th>usuario</th>\n",
       "      <th>tipo_cerveza</th>\n",
       "      <th>calificacion_paleta</th>\n",
       "      <th>calificacion_sabor</th>\n",
       "      <th>nombre_cerveza</th>\n",
       "      <th>grado_alcohol</th>\n",
       "      <th>id_cerveza</th>\n",
       "    </tr>\n",
       "  </thead>\n",
       "  <tbody>\n",
       "    <tr>\n",
       "      <th>0</th>\n",
       "      <td>10325</td>\n",
       "      <td>Vecchio Birraio</td>\n",
       "      <td>1234817823</td>\n",
       "      <td>1.5</td>\n",
       "      <td>2.0</td>\n",
       "      <td>2.5</td>\n",
       "      <td>stcules</td>\n",
       "      <td>Hefeweizen</td>\n",
       "      <td>1.5</td>\n",
       "      <td>1.5</td>\n",
       "      <td>Sausa Weizen</td>\n",
       "      <td>5.0</td>\n",
       "      <td>47986</td>\n",
       "    </tr>\n",
       "    <tr>\n",
       "      <th>1</th>\n",
       "      <td>10325</td>\n",
       "      <td>Vecchio Birraio</td>\n",
       "      <td>1235915097</td>\n",
       "      <td>3.0</td>\n",
       "      <td>2.5</td>\n",
       "      <td>3.0</td>\n",
       "      <td>stcules</td>\n",
       "      <td>English Strong Ale</td>\n",
       "      <td>3.0</td>\n",
       "      <td>3.0</td>\n",
       "      <td>Red Moon</td>\n",
       "      <td>6.2</td>\n",
       "      <td>48213</td>\n",
       "    </tr>\n",
       "    <tr>\n",
       "      <th>2</th>\n",
       "      <td>10325</td>\n",
       "      <td>Vecchio Birraio</td>\n",
       "      <td>1235916604</td>\n",
       "      <td>3.0</td>\n",
       "      <td>2.5</td>\n",
       "      <td>3.0</td>\n",
       "      <td>stcules</td>\n",
       "      <td>Foreign / Export Stout</td>\n",
       "      <td>3.0</td>\n",
       "      <td>3.0</td>\n",
       "      <td>Black Horse Black Beer</td>\n",
       "      <td>6.5</td>\n",
       "      <td>48215</td>\n",
       "    </tr>\n",
       "    <tr>\n",
       "      <th>3</th>\n",
       "      <td>10325</td>\n",
       "      <td>Vecchio Birraio</td>\n",
       "      <td>1234725145</td>\n",
       "      <td>3.0</td>\n",
       "      <td>3.0</td>\n",
       "      <td>3.5</td>\n",
       "      <td>stcules</td>\n",
       "      <td>German Pilsener</td>\n",
       "      <td>2.5</td>\n",
       "      <td>3.0</td>\n",
       "      <td>Sausa Pils</td>\n",
       "      <td>5.0</td>\n",
       "      <td>47969</td>\n",
       "    </tr>\n",
       "    <tr>\n",
       "      <th>4</th>\n",
       "      <td>1075</td>\n",
       "      <td>Caldera Brewing Company</td>\n",
       "      <td>1293735206</td>\n",
       "      <td>4.0</td>\n",
       "      <td>4.5</td>\n",
       "      <td>4.0</td>\n",
       "      <td>johnmichaelsen</td>\n",
       "      <td>American Double / Imperial IPA</td>\n",
       "      <td>4.0</td>\n",
       "      <td>4.5</td>\n",
       "      <td>Cauldron DIPA</td>\n",
       "      <td>7.7</td>\n",
       "      <td>64883</td>\n",
       "    </tr>\n",
       "  </tbody>\n",
       "</table>\n",
       "</div>"
      ],
      "text/plain": [
       "   id_cerveceria        nombre_cerveceria  fecha_calificacion  \\\n",
       "0          10325          Vecchio Birraio          1234817823   \n",
       "1          10325          Vecchio Birraio          1235915097   \n",
       "2          10325          Vecchio Birraio          1235916604   \n",
       "3          10325          Vecchio Birraio          1234725145   \n",
       "4           1075  Caldera Brewing Company          1293735206   \n",
       "\n",
       "   calificacion_total  calificacion_aroma  calificacion_apariencia  \\\n",
       "0                 1.5                 2.0                      2.5   \n",
       "1                 3.0                 2.5                      3.0   \n",
       "2                 3.0                 2.5                      3.0   \n",
       "3                 3.0                 3.0                      3.5   \n",
       "4                 4.0                 4.5                      4.0   \n",
       "\n",
       "          usuario                    tipo_cerveza  calificacion_paleta  \\\n",
       "0         stcules                      Hefeweizen                  1.5   \n",
       "1         stcules              English Strong Ale                  3.0   \n",
       "2         stcules          Foreign / Export Stout                  3.0   \n",
       "3         stcules                 German Pilsener                  2.5   \n",
       "4  johnmichaelsen  American Double / Imperial IPA                  4.0   \n",
       "\n",
       "   calificacion_sabor          nombre_cerveza  grado_alcohol  id_cerveza  \n",
       "0                 1.5            Sausa Weizen            5.0       47986  \n",
       "1                 3.0                Red Moon            6.2       48213  \n",
       "2                 3.0  Black Horse Black Beer            6.5       48215  \n",
       "3                 3.0              Sausa Pils            5.0       47969  \n",
       "4                 4.5           Cauldron DIPA            7.7       64883  "
      ]
     },
     "execution_count": 3,
     "metadata": {},
     "output_type": "execute_result"
    }
   ],
   "source": [
    "data = pd.read_csv('beer_reviews.csv')\n",
    "data.head()"
   ]
  },
  {
   "cell_type": "code",
   "execution_count": null,
   "metadata": {
    "collapsed": true
   },
   "outputs": [],
   "source": []
  }
 ],
 "metadata": {
  "kernelspec": {
   "display_name": "Python 3",
   "language": "python",
   "name": "python3"
  },
  "language_info": {
   "codemirror_mode": {
    "name": "ipython",
    "version": 3
   },
   "file_extension": ".py",
   "mimetype": "text/x-python",
   "name": "python",
   "nbconvert_exporter": "python",
   "pygments_lexer": "ipython3",
   "version": "3.6.0"
  }
 },
 "nbformat": 4,
 "nbformat_minor": 2
}
